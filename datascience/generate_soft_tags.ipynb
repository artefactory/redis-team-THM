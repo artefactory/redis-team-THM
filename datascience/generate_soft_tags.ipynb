{
 "cells": [
  {
   "cell_type": "code",
   "execution_count": null,
   "metadata": {
    "execution": {
     "iopub.execute_input": "2022-10-30T09:15:58.842412Z",
     "iopub.status.busy": "2022-10-30T09:15:58.842019Z",
     "iopub.status.idle": "2022-10-30T09:16:00.192323Z",
     "shell.execute_reply": "2022-10-30T09:16:00.191730Z",
     "shell.execute_reply.started": "2022-10-30T09:15:58.842386Z"
    },
    "tags": []
   },
   "outputs": [],
   "source": [
    "import pandas as pd\n",
    "import json\n",
    "import re\n",
    "import string\n",
    "from datasets import Dataset\n",
    "import torch\n",
    "import numpy as np\n",
    "\n",
    "DATA_PATH = \"../../../arxiv/arxiv-metadata-oai-snapshot.json\"\n",
    "YEAR_PATTERN = r\"(19|20[0-9]{2})\""
   ]
  },
  {
   "cell_type": "code",
   "execution_count": null,
   "metadata": {
    "execution": {
     "iopub.execute_input": "2022-10-30T11:29:43.160691Z",
     "iopub.status.busy": "2022-10-30T11:29:43.160311Z",
     "iopub.status.idle": "2022-10-30T11:29:43.163458Z",
     "shell.execute_reply": "2022-10-30T11:29:43.162959Z",
     "shell.execute_reply.started": "2022-10-30T11:29:43.160665Z"
    }
   },
   "outputs": [],
   "source": [
    "import transformers"
   ]
  },
  {
   "cell_type": "code",
   "execution_count": null,
   "metadata": {
    "execution": {
     "iopub.execute_input": "2022-10-30T11:29:48.414242Z",
     "iopub.status.busy": "2022-10-30T11:29:48.413856Z",
     "iopub.status.idle": "2022-10-30T11:29:48.418125Z",
     "shell.execute_reply": "2022-10-30T11:29:48.417646Z",
     "shell.execute_reply.started": "2022-10-30T11:29:48.414216Z"
    }
   },
   "outputs": [],
   "source": [
    "transformers.logging"
   ]
  },
  {
   "cell_type": "markdown",
   "metadata": {},
   "source": [
    "## Load data"
   ]
  },
  {
   "cell_type": "code",
   "execution_count": null,
   "metadata": {
    "execution": {
     "iopub.execute_input": "2022-10-30T09:16:00.193783Z",
     "iopub.status.busy": "2022-10-30T09:16:00.193367Z",
     "iopub.status.idle": "2022-10-30T09:16:00.201513Z",
     "shell.execute_reply": "2022-10-30T09:16:00.201040Z",
     "shell.execute_reply.started": "2022-10-30T09:16:00.193756Z"
    },
    "tags": []
   },
   "outputs": [],
   "source": [
    "def clean_description(description: str):\n",
    "    if not description:\n",
    "        return \"\"\n",
    "    # remove unicode characters\n",
    "    description = description.encode('ascii', 'ignore').decode()\n",
    "\n",
    "    # remove punctuation\n",
    "    description = re.sub('[%s]' % re.escape(string.punctuation), ' ', description)\n",
    "\n",
    "    # clean up the spacing\n",
    "    description = re.sub('\\s{2,}', \" \", description)\n",
    "\n",
    "    # remove urls\n",
    "    #description = re.sub(\"https*\\S+\", \" \", description)\n",
    "\n",
    "    # remove newlines\n",
    "    description = description.replace(\"\\n\", \" \")\n",
    "\n",
    "    # remove all numbers\n",
    "    #description = re.sub('\\w*\\d+\\w*', '', description)\n",
    "\n",
    "    # split on capitalized words\n",
    "    description = \" \".join(re.split('(?=[A-Z])', description))\n",
    "\n",
    "    # clean up the spacing again\n",
    "    description = re.sub('\\s{2,}', \" \", description)\n",
    "\n",
    "    # make all words lowercase\n",
    "    description = description.lower()\n",
    "\n",
    "    return description\n",
    "\n",
    "# Generator functions that iterate through the file and process/load papers\n",
    "def process(paper: dict):\n",
    "    paper = json.loads(paper)\n",
    "    if paper['journal-ref']:\n",
    "        # Attempt to parse the date using Regex: this could be improved\n",
    "        years = [int(year) for year in re.findall(YEAR_PATTERN, paper['journal-ref'])]\n",
    "        years = [year for year in years if (year <= 2022 and year >= 1991)]\n",
    "        year = min(years) if years else None\n",
    "    else:\n",
    "        year = None\n",
    "    return {\n",
    "        'id': paper['id'],\n",
    "        'title': paper['title'],\n",
    "        'year': year,\n",
    "        'authors': paper['authors'],\n",
    "        'categories': ','.join(paper['categories'].split(' ')),\n",
    "        'abstract': paper['abstract'],    }\n",
    "\n",
    "def papers():\n",
    "    with open(DATA_PATH, 'r') as f:\n",
    "        for paper in f:\n",
    "            paper = process(paper)\n",
    "            # Yield only papers that have a year I could process\n",
    "            if paper['year']:\n",
    "                yield paper\n"
   ]
  },
  {
   "cell_type": "code",
   "execution_count": null,
   "metadata": {
    "execution": {
     "iopub.execute_input": "2022-10-30T09:16:00.251061Z",
     "iopub.status.busy": "2022-10-30T09:16:00.250470Z",
     "iopub.status.idle": "2022-10-30T09:16:36.946926Z",
     "shell.execute_reply": "2022-10-30T09:16:36.946311Z",
     "shell.execute_reply.started": "2022-10-30T09:16:00.251034Z"
    },
    "tags": []
   },
   "outputs": [],
   "source": [
    "df = pd.DataFrame(papers())"
   ]
  },
  {
   "cell_type": "code",
   "execution_count": null,
   "metadata": {
    "execution": {
     "iopub.execute_input": "2022-10-30T09:16:36.948283Z",
     "iopub.status.busy": "2022-10-30T09:16:36.947937Z",
     "iopub.status.idle": "2022-10-30T09:16:37.102066Z",
     "shell.execute_reply": "2022-10-30T09:16:37.101487Z",
     "shell.execute_reply.started": "2022-10-30T09:16:36.948259Z"
    },
    "tags": []
   },
   "outputs": [],
   "source": [
    "df_sample = df.copy()\n",
    "df_sample_clean = df.copy()"
   ]
  },
  {
   "cell_type": "markdown",
   "metadata": {},
   "source": [
    "## Prepare text and labels"
   ]
  },
  {
   "cell_type": "code",
   "execution_count": null,
   "metadata": {
    "execution": {
     "iopub.execute_input": "2022-10-30T09:16:37.103030Z",
     "iopub.status.busy": "2022-10-30T09:16:37.102804Z",
     "iopub.status.idle": "2022-10-30T09:17:48.914216Z",
     "shell.execute_reply": "2022-10-30T09:17:48.913634Z",
     "shell.execute_reply.started": "2022-10-30T09:16:37.103009Z"
    },
    "tags": []
   },
   "outputs": [],
   "source": [
    "df_sample['text'] = df_sample.apply(lambda r: clean_description(r['title'] + ' ' + r['abstract']), axis=1).tolist()\n",
    "df_sample = df_sample[['text', 'categories']]\n"
   ]
  },
  {
   "cell_type": "code",
   "execution_count": null,
   "metadata": {
    "execution": {
     "iopub.execute_input": "2022-10-30T10:23:30.799131Z",
     "iopub.status.busy": "2022-10-30T10:23:30.798722Z",
     "iopub.status.idle": "2022-10-30T10:23:30.870791Z",
     "shell.execute_reply": "2022-10-30T10:23:30.870192Z",
     "shell.execute_reply.started": "2022-10-30T10:23:30.799105Z"
    },
    "tags": []
   },
   "outputs": [],
   "source": [
    "df_tmp = df.copy()"
   ]
  },
  {
   "cell_type": "code",
   "execution_count": null,
   "metadata": {
    "execution": {
     "iopub.execute_input": "2022-10-30T10:23:40.064893Z",
     "iopub.status.busy": "2022-10-30T10:23:40.064507Z",
     "iopub.status.idle": "2022-10-30T10:25:09.239166Z",
     "shell.execute_reply": "2022-10-30T10:25:09.238625Z",
     "shell.execute_reply.started": "2022-10-30T10:23:40.064868Z"
    },
    "tags": []
   },
   "outputs": [],
   "source": [
    "df_tmp['categories'].str.get_dummies(sep=',')"
   ]
  },
  {
   "cell_type": "code",
   "execution_count": null,
   "metadata": {
    "execution": {
     "iopub.execute_input": "2022-10-30T09:17:48.915720Z",
     "iopub.status.busy": "2022-10-30T09:17:48.915435Z",
     "iopub.status.idle": "2022-10-30T09:19:14.118689Z",
     "shell.execute_reply": "2022-10-30T09:19:14.118092Z",
     "shell.execute_reply.started": "2022-10-30T09:17:48.915698Z"
    },
    "tags": []
   },
   "outputs": [],
   "source": [
    "# concatenate df_sample and dummies (ooe_df will be used to inverse the preds and get category names)\n",
    "ooe_df = df_sample['categories'].str.get_dummies(sep=',')\n",
    "num_classes = ooe_df.shape[1]"
   ]
  },
  {
   "cell_type": "code",
   "execution_count": null,
   "metadata": {
    "execution": {
     "iopub.execute_input": "2022-10-30T09:19:14.144219Z",
     "iopub.status.busy": "2022-10-30T09:19:14.143765Z",
     "iopub.status.idle": "2022-10-30T09:25:03.539645Z",
     "shell.execute_reply": "2022-10-30T09:25:03.539041Z",
     "shell.execute_reply.started": "2022-10-30T09:19:14.144195Z"
    },
    "tags": []
   },
   "outputs": [],
   "source": [
    "category_cols = ooe_df.columns.tolist()\n",
    "parse_labels = lambda x : [x[c] for c in category_cols]\n",
    "\n",
    "# parse the labels\n",
    "df_sample['labels'] = ooe_df.apply(parse_labels, axis=1)\n",
    "df_sample = df_sample[['text', 'labels']]"
   ]
  },
  {
   "cell_type": "code",
   "execution_count": null,
   "metadata": {
    "execution": {
     "iopub.execute_input": "2022-10-30T09:25:03.540723Z",
     "iopub.status.busy": "2022-10-30T09:25:03.540435Z",
     "iopub.status.idle": "2022-10-30T09:25:25.074600Z",
     "shell.execute_reply": "2022-10-30T09:25:25.074043Z",
     "shell.execute_reply.started": "2022-10-30T09:25:03.540701Z"
    },
    "tags": []
   },
   "outputs": [],
   "source": [
    "df_dataset = Dataset.from_pandas(df_sample)\n"
   ]
  },
  {
   "cell_type": "markdown",
   "metadata": {},
   "source": [
    "## Modelling"
   ]
  },
  {
   "cell_type": "code",
   "execution_count": null,
   "metadata": {
    "execution": {
     "iopub.execute_input": "2022-10-30T09:25:25.075564Z",
     "iopub.status.busy": "2022-10-30T09:25:25.075356Z",
     "iopub.status.idle": "2022-10-30T09:25:25.431398Z",
     "shell.execute_reply": "2022-10-30T09:25:25.430811Z",
     "shell.execute_reply.started": "2022-10-30T09:25:25.075544Z"
    },
    "tags": []
   },
   "outputs": [],
   "source": [
    "from transformers import AutoModelForSequenceClassification\n",
    "from transformers import AutoTokenizer\n",
    "from transformers import Trainer, TrainingArguments"
   ]
  },
  {
   "cell_type": "code",
   "execution_count": null,
   "metadata": {
    "execution": {
     "iopub.execute_input": "2022-10-30T09:25:25.432485Z",
     "iopub.status.busy": "2022-10-30T09:25:25.432202Z",
     "iopub.status.idle": "2022-10-30T09:41:01.542051Z",
     "shell.execute_reply": "2022-10-30T09:41:01.541453Z",
     "shell.execute_reply.started": "2022-10-30T09:25:25.432463Z"
    },
    "tags": []
   },
   "outputs": [],
   "source": [
    "tokenizer = AutoTokenizer.from_pretrained(\"prajjwal1/bert-tiny\",\n",
    "                                          problem_type=\"multi_label_classification\",\n",
    "                                          model_max_length=512)\n",
    "\n",
    "def tokenize_and_encode(examples):\n",
    "  return tokenizer(examples[\"text\"], truncation=True)\n",
    "cols = df_dataset.column_names\n",
    "cols.remove('labels')\n",
    "df_dataset = df_dataset.map(tokenize_and_encode, batched=True, remove_columns=cols)\n",
    "\n",
    "df_dataset.set_format(\"torch\")\n",
    "df_dataset = (df_dataset\n",
    "          .map(lambda x : {\"float_labels\": x[\"labels\"].to(torch.float)}, remove_columns=[\"labels\", \"token_type_ids\"])\n",
    "          .rename_column(\"float_labels\", \"labels\"))"
   ]
  },
  {
   "cell_type": "code",
   "execution_count": null,
   "metadata": {
    "execution": {
     "iopub.execute_input": "2022-10-30T09:41:01.552831Z",
     "iopub.status.busy": "2022-10-30T09:41:01.552327Z",
     "iopub.status.idle": "2022-10-30T09:41:01.769024Z",
     "shell.execute_reply": "2022-10-30T09:41:01.768335Z",
     "shell.execute_reply.started": "2022-10-30T09:41:01.552807Z"
    },
    "tags": []
   },
   "outputs": [],
   "source": [
    "model = AutoModelForSequenceClassification.from_pretrained(\n",
    "    \"prajjwal1/bert-tiny\",\n",
    "    num_labels=num_classes,\n",
    "    problem_type=\"multi_label_classification\"\n",
    "    )"
   ]
  },
  {
   "cell_type": "code",
   "execution_count": null,
   "metadata": {
    "execution": {
     "iopub.execute_input": "2022-10-30T09:41:01.771655Z",
     "iopub.status.busy": "2022-10-30T09:41:01.771187Z",
     "iopub.status.idle": "2022-10-30T09:41:04.151768Z",
     "shell.execute_reply": "2022-10-30T09:41:04.151105Z",
     "shell.execute_reply.started": "2022-10-30T09:41:01.771626Z"
    },
    "tags": []
   },
   "outputs": [],
   "source": [
    "args = TrainingArguments(\n",
    "    save_strategy=\"epoch\",\n",
    "    num_train_epochs=1,\n",
    "    output_dir = '.outputs',\n",
    "    logging_steps = 10000\n",
    ")\n",
    "\n",
    "trainer = Trainer(model=model,\n",
    "                  args=args,\n",
    "                  train_dataset=df_dataset,\n",
    "                  tokenizer=tokenizer)"
   ]
  },
  {
   "cell_type": "code",
   "execution_count": null,
   "metadata": {
    "execution": {
     "iopub.execute_input": "2022-10-30T09:41:04.152898Z",
     "iopub.status.busy": "2022-10-30T09:41:04.152593Z",
     "iopub.status.idle": "2022-10-30T10:03:46.037394Z",
     "shell.execute_reply": "2022-10-30T10:03:46.036910Z",
     "shell.execute_reply.started": "2022-10-30T09:41:04.152874Z"
    },
    "tags": []
   },
   "outputs": [],
   "source": [
    "trainer.train()"
   ]
  },
  {
   "cell_type": "code",
   "execution_count": null,
   "metadata": {
    "execution": {
     "iopub.execute_input": "2022-10-30T10:03:46.038420Z",
     "iopub.status.busy": "2022-10-30T10:03:46.038136Z",
     "iopub.status.idle": "2022-10-30T10:17:46.512762Z",
     "shell.execute_reply": "2022-10-30T10:17:46.512236Z",
     "shell.execute_reply.started": "2022-10-30T10:03:46.038398Z"
    },
    "tags": []
   },
   "outputs": [],
   "source": [
    "preds = trainer.predict(df_dataset)"
   ]
  },
  {
   "cell_type": "markdown",
   "metadata": {},
   "source": [
    "## Get top category name from predictions"
   ]
  },
  {
   "cell_type": "code",
   "execution_count": null,
   "metadata": {},
   "outputs": [],
   "source": [
    "# Get top 3 predictions per paper\n",
    "top_k_preds = torch.topk(\n",
    "    torch.nn.functional.softmax(torch.tensor(preds.predictions)), \n",
    "    k=3, \n",
    "    dim=1\n",
    ")\n",
    "top_k_preds_confidence = top_k_preds.values\n",
    "top_k_preds_idx = top_k_preds.indices"
   ]
  },
  {
   "cell_type": "code",
   "execution_count": null,
   "metadata": {},
   "outputs": [],
   "source": [
    "predictions = []\n",
    "labels = ooe_df.columns\n",
    "for article_pred in top_k_preds_idx.tolist():\n",
    "    predictions.append([labels[pred_idx] for pred_idx in article_pred])"
   ]
  },
  {
   "cell_type": "code",
   "execution_count": null,
   "metadata": {},
   "outputs": [],
   "source": [
    "from typing import List\n",
    "\n",
    "\n",
    "CONFIDENCE_THRESHOLD = 0.1\n",
    "\n",
    "output = []\n",
    "\n",
    "def build_prediction_string(prediction_labels: List[str], prediction_confidences: List[float], min_confidence: float) -> str:\n",
    "    preds = []\n",
    "    for label, conf in zip(prediction_labels, prediction_confidences):\n",
    "        if conf < min_confidence:\n",
    "            continue\n",
    "        preds.append(f\"{label}({conf:.4f})\")\n",
    "    \n",
    "    if preds:\n",
    "        return \"|\".join(preds)\n",
    "    else:\n",
    "        return \"\"\n",
    "    \n",
    "output = []\n",
    "for pred_labels, pred_confidences in zip(predictions, top_k_preds_confidence):\n",
    "    output.append(\n",
    "        build_prediction_string(pred_labels, pred_confidences, CONFIDENCE_THRESHOLD)\n",
    "    )"
   ]
  },
  {
   "cell_type": "code",
   "execution_count": null,
   "metadata": {},
   "outputs": [],
   "source": [
    "df[\"enriched_categories\"] = output"
   ]
  },
  {
   "cell_type": "code",
   "execution_count": null,
   "metadata": {},
   "outputs": [],
   "source": [
    "df.to_pickle(\"../papers_df.pkl\")"
   ]
  }
 ],
 "metadata": {
  "kernelspec": {
   "display_name": "Python 3.7.12 ('saturn')",
   "language": "python",
   "name": "python3"
  },
  "language_info": {
   "codemirror_mode": {
    "name": "ipython",
    "version": 3
   },
   "file_extension": ".py",
   "mimetype": "text/x-python",
   "name": "python",
   "nbconvert_exporter": "python",
   "pygments_lexer": "ipython3",
   "version": "3.7.12"
  },
  "vscode": {
   "interpreter": {
    "hash": "3c1f51487d8a055fea90b37fa3b43d5a61376641bd8f503a1f79d6e81aa7dcb1"
   }
  }
 },
 "nbformat": 4,
 "nbformat_minor": 4
}
